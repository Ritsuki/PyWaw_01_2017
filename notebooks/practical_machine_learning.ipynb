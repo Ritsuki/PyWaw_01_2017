{
 "cells": [
  {
   "cell_type": "markdown",
   "metadata": {
    "run_control": {
     "frozen": false,
     "read_only": false
    },
    "toc": "true"
   },
   "source": [
    "# Table of Contents\n",
    " <p><div class=\"lev1 toc-item\"><a href=\"#Basic-Workflow\" data-toc-modified-id=\"Basic-Workflow-1\"><span class=\"toc-item-num\">1&nbsp;&nbsp;</span>Basic Workflow</a></div><div class=\"lev2 toc-item\"><a href=\"#DATASET\" data-toc-modified-id=\"DATASET-11\"><span class=\"toc-item-num\">1.1&nbsp;&nbsp;</span>DATASET</a></div><div class=\"lev2 toc-item\"><a href=\"#MACHINE-LEARNING\" data-toc-modified-id=\"MACHINE-LEARNING-12\"><span class=\"toc-item-num\">1.2&nbsp;&nbsp;</span>MACHINE LEARNING</a></div><div class=\"lev2 toc-item\"><a href=\"#MODEL\" data-toc-modified-id=\"MODEL-13\"><span class=\"toc-item-num\">1.3&nbsp;&nbsp;</span>MODEL</a></div>"
   ]
  },
  {
   "cell_type": "code",
   "execution_count": 5,
   "metadata": {
    "ExecuteTime": {
     "end_time": "2017-01-07T13:46:10.569186",
     "start_time": "2017-01-07T13:46:10.566049"
    },
    "collapsed": true,
    "run_control": {
     "frozen": false,
     "read_only": false
    }
   },
   "outputs": [],
   "source": [
    "import numpy as np\n",
    "import pandas as pd\n",
    "from scipy.stats import randint\n",
    "from operator import itemgetter\n",
    "import sklearn.datasets as datasets\n",
    "from sklearn import svm, grid_search, datasets, cross_validation, metrics, ensemble, neighbors, linear_model\n",
    "from datetime import datetime"
   ]
  },
  {
   "cell_type": "markdown",
   "metadata": {},
   "source": [
    "# Basic Workflow"
   ]
  },
  {
   "cell_type": "markdown",
   "metadata": {
    "ExecuteTime": {
     "end_time": "2016-04-15T16:18:15.440126",
     "start_time": "2016-04-15T16:18:15.431935"
    },
    "run_control": {
     "frozen": false,
     "read_only": false
    }
   },
   "source": [
    "## DATASET"
   ]
  },
  {
   "cell_type": "code",
   "execution_count": 6,
   "metadata": {
    "ExecuteTime": {
     "end_time": "2017-01-07T13:49:27.715596",
     "start_time": "2017-01-07T13:49:27.618602"
    },
    "collapsed": false,
    "run_control": {
     "frozen": false,
     "read_only": false
    }
   },
   "outputs": [],
   "source": [
    "iris_dataset = datasets.load_iris()\n",
    "digits_dataset = datasets.load_digits(10)"
   ]
  },
  {
   "cell_type": "code",
   "execution_count": 7,
   "metadata": {
    "ExecuteTime": {
     "end_time": "2017-01-07T13:49:27.765032",
     "start_time": "2017-01-07T13:49:27.762849"
    },
    "collapsed": false,
    "run_control": {
     "frozen": false,
     "read_only": false
    }
   },
   "outputs": [
    {
     "name": "stdout",
     "output_type": "stream",
     "text": [
      "Iris Plants Database\n",
      "\n",
      "Notes\n",
      "-----\n",
      "Data Set Characteristics:\n",
      "    :Number of Instances: 150 (50 in each of three classes)\n",
      "    :Number of Attributes: 4 numeric, predictive attributes and the class\n",
      "    :Attribute Information:\n",
      "        - sepal length in cm\n",
      "        - sepal width in cm\n",
      "        - petal length in cm\n",
      "        - petal width in cm\n",
      "        - class:\n",
      "                - Iris-Setosa\n",
      "                - Iris-Versicolour\n",
      "                - Iris-Virginica\n",
      "    :Summary Statistics:\n",
      "\n",
      "    ============== ==== ==== ======= ===== ====================\n",
      "                    Min  Max   Mean    SD   Class Correlation\n",
      "    ============== ==== ==== ======= ===== ====================\n",
      "    sepal length:   4.3  7.9   5.84   0.83    0.7826\n",
      "    sepal width:    2.0  4.4   3.05   0.43   -0.4194\n",
      "    petal length:   1.0  6.9   3.76   1.76    0.9490  (high!)\n",
      "    petal width:    0.1  2.5   1.20  0.76     0.9565  (high!)\n",
      "    ============== ==== ==== ======= ===== ====================\n",
      "\n",
      "    :Missing Attribute Values: None\n",
      "    :Class Distribution: 33.3% for each of 3 classes.\n",
      "    :Creator: R.A. Fisher\n",
      "    :Donor: Michael Marshall (MARSHALL%PLU@io.arc.nasa.gov)\n",
      "    :Date: July, 1988\n",
      "\n",
      "This is a copy of UCI ML iris datasets.\n",
      "http://archive.ics.uci.edu/ml/datasets/Iris\n",
      "\n",
      "The famous Iris database, first used by Sir R.A Fisher\n",
      "\n",
      "This is perhaps the best known database to be found in the\n",
      "pattern recognition literature.  Fisher's paper is a classic in the field and\n",
      "is referenced frequently to this day.  (See Duda & Hart, for example.)  The\n",
      "data set contains 3 classes of 50 instances each, where each class refers to a\n",
      "type of iris plant.  One class is linearly separable from the other 2; the\n",
      "latter are NOT linearly separable from each other.\n",
      "\n",
      "References\n",
      "----------\n",
      "   - Fisher,R.A. \"The use of multiple measurements in taxonomic problems\"\n",
      "     Annual Eugenics, 7, Part II, 179-188 (1936); also in \"Contributions to\n",
      "     Mathematical Statistics\" (John Wiley, NY, 1950).\n",
      "   - Duda,R.O., & Hart,P.E. (1973) Pattern Classification and Scene Analysis.\n",
      "     (Q327.D83) John Wiley & Sons.  ISBN 0-471-22361-1.  See page 218.\n",
      "   - Dasarathy, B.V. (1980) \"Nosing Around the Neighborhood: A New System\n",
      "     Structure and Classification Rule for Recognition in Partially Exposed\n",
      "     Environments\".  IEEE Transactions on Pattern Analysis and Machine\n",
      "     Intelligence, Vol. PAMI-2, No. 1, 67-71.\n",
      "   - Gates, G.W. (1972) \"The Reduced Nearest Neighbor Rule\".  IEEE Transactions\n",
      "     on Information Theory, May 1972, 431-433.\n",
      "   - See also: 1988 MLC Proceedings, 54-64.  Cheeseman et al\"s AUTOCLASS II\n",
      "     conceptual clustering system finds 3 classes in the data.\n",
      "   - Many, many more ...\n",
      "\n"
     ]
    }
   ],
   "source": [
    "print(iris_dataset['DESCR'])"
   ]
  },
  {
   "cell_type": "markdown",
   "metadata": {
    "run_control": {
     "frozen": false,
     "read_only": false
    }
   },
   "source": [
    "## MACHINE LEARNING"
   ]
  },
  {
   "cell_type": "markdown",
   "metadata": {
    "run_control": {
     "frozen": false,
     "read_only": false
    }
   },
   "source": [
    "__Walidacja krzyżowa (cross-validation)__ - Poprzez testowanie na innych danych niż było przeprowadzone uczenie, kroswalidacja pozwala nam na otrzymanie dość wiarygodnej oceny danego klasyfikatora.  \n",
    "W bibliotece scikit-learn wykonanie kroswalidacji jest bardzo proste, wystarczy do metody przekazać klasyfikator, który chcemy sprawdzić oraz dane i odpowiadające im klasy.  \n",
    "[sikit-learn docs](http://scikit-learn.org/stable/modules/cross_validation.html)  \n",
    "[wikipedia](https://pl.wikipedia.org/wiki/Sprawdzian_krzy%C5%BCowy)"
   ]
  },
  {
   "cell_type": "code",
   "execution_count": 11,
   "metadata": {
    "ExecuteTime": {
     "end_time": "2017-01-07T13:49:56.694804",
     "start_time": "2017-01-07T13:49:56.692771"
    },
    "collapsed": true,
    "run_control": {
     "frozen": false,
     "read_only": false
    }
   },
   "outputs": [],
   "source": [
    "svc = svm.SVC(random_state=0)\n",
    "linear_svc = svm.LinearSVC(random_state=0)"
   ]
  },
  {
   "cell_type": "code",
   "execution_count": 12,
   "metadata": {
    "ExecuteTime": {
     "end_time": "2017-01-07T13:50:08.245130",
     "start_time": "2017-01-07T13:50:08.236278"
    },
    "collapsed": false,
    "run_control": {
     "frozen": false,
     "read_only": false
    }
   },
   "outputs": [
    {
     "name": "stdout",
     "output_type": "stream",
     "text": [
      "Mean score for SVC: 0.973447712418\n"
     ]
    }
   ],
   "source": [
    "svc_scores = cross_validation.cross_val_score(svc, iris_dataset['data'], iris_dataset['target'])\n",
    "\n",
    "print(\"Mean score for SVC:\", svc_scores.mean())"
   ]
  },
  {
   "cell_type": "code",
   "execution_count": 13,
   "metadata": {
    "ExecuteTime": {
     "end_time": "2017-01-07T13:50:08.733434",
     "start_time": "2017-01-07T13:50:08.714931"
    },
    "collapsed": false,
    "run_control": {
     "frozen": false,
     "read_only": false
    }
   },
   "outputs": [
    {
     "name": "stdout",
     "output_type": "stream",
     "text": [
      "Mean score for LinearSVC: 0.966911764706\n"
     ]
    }
   ],
   "source": [
    "linear_svc_scores = cross_validation.cross_val_score(linear_svc, iris_dataset['data'], iris_dataset['target'])\n",
    "\n",
    "print(\"Mean score for LinearSVC:\", linear_svc_scores.mean())"
   ]
  },
  {
   "cell_type": "markdown",
   "metadata": {
    "ExecuteTime": {
     "end_time": "2017-01-07T13:50:35.572247",
     "start_time": "2017-01-07T13:50:35.570770"
    }
   },
   "source": [
    "## MODEL"
   ]
  },
  {
   "cell_type": "markdown",
   "metadata": {},
   "source": [
    "Inicjalizujemy klasyfikator SVM  \n",
    "\n",
    "**SVM** - Support Vector Machine:\n",
    "- **SVC** - Support Vector Classification\n",
    "- **SVR** - Support Vector Regressor\n",
    "    \n",
    "[scikit-learn docs](http://scikit-learn.org/stable/modules/generated/sklearn.svm.SVC.html)"
   ]
  },
  {
   "cell_type": "code",
   "execution_count": 15,
   "metadata": {
    "ExecuteTime": {
     "end_time": "2017-01-07T13:51:08.068322",
     "start_time": "2017-01-07T13:51:08.058894"
    },
    "collapsed": false
   },
   "outputs": [
    {
     "data": {
      "text/plain": [
       "SVC(C=1.0, cache_size=200, class_weight=None, coef0=0.0,\n",
       "  decision_function_shape=None, degree=3, gamma='auto', kernel='rbf',\n",
       "  max_iter=-1, probability=False, random_state=0, shrinking=True,\n",
       "  tol=0.001, verbose=False)"
      ]
     },
     "execution_count": 15,
     "metadata": {},
     "output_type": "execute_result"
    }
   ],
   "source": [
    "model = svm.SVC(random_state=0)\n",
    "model.fit(iris_dataset['data'], iris_dataset['target'])"
   ]
  },
  {
   "cell_type": "code",
   "execution_count": 19,
   "metadata": {
    "ExecuteTime": {
     "end_time": "2017-01-07T13:54:39.544793",
     "start_time": "2017-01-07T13:54:39.541657"
    },
    "collapsed": false
   },
   "outputs": [
    {
     "name": "stdout",
     "output_type": "stream",
     "text": [
      "Expected outcome: 0 \n",
      "Prediction: 0\n"
     ]
    }
   ],
   "source": [
    "data_to_classify = iris_dataset['data'][0]\n",
    "expected_outcome = iris_dataset['target'][0]\n",
    "\n",
    "prediction = model.predict([data_to_classify])\n",
    "prediction = prediction[0]\n",
    "print(\"Expected outcome:\", expected_outcome, \"\\nPrediction:\", prediction)"
   ]
  }
 ],
 "metadata": {
  "anaconda-cloud": {},
  "hide_input": false,
  "kernelspec": {
   "display_name": "Python [default]",
   "language": "python",
   "name": "python3"
  },
  "language_info": {
   "codemirror_mode": {
    "name": "ipython",
    "version": 3
   },
   "file_extension": ".py",
   "mimetype": "text/x-python",
   "name": "python",
   "nbconvert_exporter": "python",
   "pygments_lexer": "ipython3",
   "version": "3.5.2"
  },
  "notify_time": "30",
  "toc": {
   "colors": {
    "hover_highlight": "#DAA520",
    "running_highlight": "#FF0000",
    "selected_highlight": "#FFD700"
   },
   "moveMenuLeft": true,
   "nav_menu": {
    "height": "279px",
    "width": "252px"
   },
   "navigate_menu": true,
   "number_sections": true,
   "sideBar": true,
   "threshold": 4,
   "toc_cell": true,
   "toc_number_sections": true,
   "toc_section_display": "none",
   "toc_threshold": 6,
   "toc_window_display": false
  },
  "toc_position": {
   "height": "631px",
   "left": "1578px",
   "right": "49px",
   "top": "144px",
   "width": "228px"
  }
 },
 "nbformat": 4,
 "nbformat_minor": 0
}
