{
 "cells": [
  {
   "cell_type": "markdown",
   "metadata": {
    "run_control": {
     "frozen": false,
     "read_only": false
    },
    "toc": "true"
   },
   "source": [
    "# Table of Contents\n",
    " <p><div class=\"lev1 toc-item\"><a href=\"#Automated-Model-Selection\" data-toc-modified-id=\"Automated-Model-Selection-1\"><span class=\"toc-item-num\">1&nbsp;&nbsp;</span>Automated Model Selection</a></div><div class=\"lev2 toc-item\"><a href=\"#Dataset\" data-toc-modified-id=\"Dataset-11\"><span class=\"toc-item-num\">1.1&nbsp;&nbsp;</span>Dataset</a></div><div class=\"lev2 toc-item\"><a href=\"#Grid-testing\" data-toc-modified-id=\"Grid-testing-12\"><span class=\"toc-item-num\">1.2&nbsp;&nbsp;</span>Grid testing</a></div><div class=\"lev3 toc-item\"><a href=\"#Dataset-Iris\" data-toc-modified-id=\"Dataset-Iris-121\"><span class=\"toc-item-num\">1.2.1&nbsp;&nbsp;</span>Dataset Iris</a></div><div class=\"lev4 toc-item\"><a href=\"#Trochę-czystsza-prezentacja\" data-toc-modified-id=\"Trochę-czystsza-prezentacja-1211\"><span class=\"toc-item-num\">1.2.1.1&nbsp;&nbsp;</span>Trochę czystsza prezentacja</a></div><div class=\"lev3 toc-item\"><a href=\"#Dataset-Digits\" data-toc-modified-id=\"Dataset-Digits-122\"><span class=\"toc-item-num\">1.2.2&nbsp;&nbsp;</span>Dataset Digits</a></div><div class=\"lev2 toc-item\"><a href=\"#Testowanie-kilku-klasyfikatorów\" data-toc-modified-id=\"Testowanie-kilku-klasyfikatorów-13\"><span class=\"toc-item-num\">1.3&nbsp;&nbsp;</span>Testowanie kilku klasyfikatorów</a></div><div class=\"lev3 toc-item\"><a href=\"#Dataset-Iris\" data-toc-modified-id=\"Dataset-Iris-131\"><span class=\"toc-item-num\">1.3.1&nbsp;&nbsp;</span>Dataset Iris</a></div><div class=\"lev4 toc-item\"><a href=\"#Parametery-najlepszego-klasyfikatora\" data-toc-modified-id=\"Parametery-najlepszego-klasyfikatora-1311\"><span class=\"toc-item-num\">1.3.1.1&nbsp;&nbsp;</span>Parametery najlepszego klasyfikatora</a></div><div class=\"lev3 toc-item\"><a href=\"#Dataset-Digits\" data-toc-modified-id=\"Dataset-Digits-132\"><span class=\"toc-item-num\">1.3.2&nbsp;&nbsp;</span>Dataset Digits</a></div><div class=\"lev4 toc-item\"><a href=\"#Parametry-najlepszego-klasyfikatora\" data-toc-modified-id=\"Parametry-najlepszego-klasyfikatora-1321\"><span class=\"toc-item-num\">1.3.2.1&nbsp;&nbsp;</span>Parametry najlepszego klasyfikatora</a></div><div class=\"lev3 toc-item\"><a href=\"#Porównanie-parametrów-klasyfikatorów-dla-obu-zestawów-danych\" data-toc-modified-id=\"Porównanie-parametrów-klasyfikatorów-dla-obu-zestawów-danych-133\"><span class=\"toc-item-num\">1.3.3&nbsp;&nbsp;</span>Porównanie parametrów klasyfikatorów dla obu zestawów danych</a></div><div class=\"lev3 toc-item\"><a href=\"#Classification-report\" data-toc-modified-id=\"Classification-report-134\"><span class=\"toc-item-num\">1.3.4&nbsp;&nbsp;</span>Classification report</a></div><div class=\"lev2 toc-item\"><a href=\"#Przykładowe-wykorzystanie-wyuczonego-klasyfikatora\" data-toc-modified-id=\"Przykładowe-wykorzystanie-wyuczonego-klasyfikatora-14\"><span class=\"toc-item-num\">1.4&nbsp;&nbsp;</span>Przykładowe wykorzystanie wyuczonego klasyfikatora</a></div>"
   ]
  },
  {
   "cell_type": "code",
   "execution_count": 1,
   "metadata": {
    "ExecuteTime": {
     "end_time": "2017-01-07T19:41:43.544744",
     "start_time": "2017-01-07T19:41:43.071929"
    },
    "collapsed": true,
    "run_control": {
     "frozen": false,
     "read_only": false
    }
   },
   "outputs": [],
   "source": [
    "import numpy as np\n",
    "import pandas as pd\n",
    "from scipy.stats import randint\n",
    "from operator import itemgetter\n",
    "import sklearn.datasets as datasets\n",
    "from sklearn import svm, grid_search, datasets, cross_validation, metrics, ensemble, neighbors, linear_model\n",
    "from datetime import datetime"
   ]
  },
  {
   "cell_type": "markdown",
   "metadata": {
    "run_control": {
     "frozen": false,
     "read_only": false
    }
   },
   "source": [
    "# Automated Model Selection"
   ]
  },
  {
   "cell_type": "markdown",
   "metadata": {
    "ExecuteTime": {
     "end_time": "2016-04-15T16:18:15.440126",
     "start_time": "2016-04-15T16:18:15.431935"
    },
    "run_control": {
     "frozen": false,
     "read_only": false
    }
   },
   "source": [
    "## Dataset"
   ]
  },
  {
   "cell_type": "code",
   "execution_count": 2,
   "metadata": {
    "ExecuteTime": {
     "end_time": "2017-01-07T19:41:43.640765",
     "start_time": "2017-01-07T19:41:43.545817"
    },
    "collapsed": false,
    "run_control": {
     "frozen": false,
     "read_only": false
    }
   },
   "outputs": [],
   "source": [
    "iris_dataset = datasets.load_iris()\n",
    "digits_dataset = datasets.load_digits(10)"
   ]
  },
  {
   "cell_type": "code",
   "execution_count": 3,
   "metadata": {
    "ExecuteTime": {
     "end_time": "2017-01-07T19:41:43.643827",
     "start_time": "2017-01-07T19:41:43.641750"
    },
    "collapsed": false,
    "run_control": {
     "frozen": false,
     "read_only": false
    }
   },
   "outputs": [
    {
     "name": "stdout",
     "output_type": "stream",
     "text": [
      "Iris Plants Database\n",
      "\n",
      "Notes\n",
      "-----\n",
      "Data Set Characteristics:\n",
      "    :Number of Instances: 150 (50 in each of three classes)\n",
      "    :Number of Attributes: 4 numeric, predictive attributes and the class\n",
      "    :Attribute Information:\n",
      "        - sepal length in cm\n",
      "        - sepal width in cm\n",
      "        - petal length in cm\n",
      "        - petal width in cm\n",
      "        - class:\n",
      "                - Iris-Setosa\n",
      "                - Iris-Versicolour\n",
      "                - Iris-Virginica\n",
      "    :Summary Statistics:\n",
      "\n",
      "    ============== ==== ==== ======= ===== ====================\n",
      "                    Min  Max   Mean    SD   Class Correlation\n",
      "    ============== ==== ==== ======= ===== ====================\n",
      "    sepal length:   4.3  7.9   5.84   0.83    0.7826\n",
      "    sepal width:    2.0  4.4   3.05   0.43   -0.4194\n",
      "    petal length:   1.0  6.9   3.76   1.76    0.9490  (high!)\n",
      "    petal width:    0.1  2.5   1.20  0.76     0.9565  (high!)\n",
      "    ============== ==== ==== ======= ===== ====================\n",
      "\n",
      "    :Missing Attribute Values: None\n",
      "    :Class Distribution: 33.3% for each of 3 classes.\n",
      "    :Creator: R.A. Fisher\n",
      "    :Donor: Michael Marshall (MARSHALL%PLU@io.arc.nasa.gov)\n",
      "    :Date: July, 1988\n",
      "\n",
      "This is a copy of UCI ML iris datasets.\n",
      "http://archive.ics.uci.edu/ml/datasets/Iris\n",
      "\n",
      "The famous Iris database, first used by Sir R.A Fisher\n",
      "\n",
      "This is perhaps the best known database to be found in the\n",
      "pattern recognition literature.  Fisher's paper is a classic in the field and\n",
      "is referenced frequently to this day.  (See Duda & Hart, for example.)  The\n",
      "data set contains 3 classes of 50 instances each, where each class refers to a\n",
      "type of iris plant.  One class is linearly separable from the other 2; the\n",
      "latter are NOT linearly separable from each other.\n",
      "\n",
      "References\n",
      "----------\n",
      "   - Fisher,R.A. \"The use of multiple measurements in taxonomic problems\"\n",
      "     Annual Eugenics, 7, Part II, 179-188 (1936); also in \"Contributions to\n",
      "     Mathematical Statistics\" (John Wiley, NY, 1950).\n",
      "   - Duda,R.O., & Hart,P.E. (1973) Pattern Classification and Scene Analysis.\n",
      "     (Q327.D83) John Wiley & Sons.  ISBN 0-471-22361-1.  See page 218.\n",
      "   - Dasarathy, B.V. (1980) \"Nosing Around the Neighborhood: A New System\n",
      "     Structure and Classification Rule for Recognition in Partially Exposed\n",
      "     Environments\".  IEEE Transactions on Pattern Analysis and Machine\n",
      "     Intelligence, Vol. PAMI-2, No. 1, 67-71.\n",
      "   - Gates, G.W. (1972) \"The Reduced Nearest Neighbor Rule\".  IEEE Transactions\n",
      "     on Information Theory, May 1972, 431-433.\n",
      "   - See also: 1988 MLC Proceedings, 54-64.  Cheeseman et al\"s AUTOCLASS II\n",
      "     conceptual clustering system finds 3 classes in the data.\n",
      "   - Many, many more ...\n",
      "\n"
     ]
    }
   ],
   "source": [
    "print(iris_dataset['DESCR'])"
   ]
  },
  {
   "cell_type": "markdown",
   "metadata": {
    "run_control": {
     "frozen": false,
     "read_only": false
    }
   },
   "source": [
    "## Grid testing"
   ]
  },
  {
   "cell_type": "markdown",
   "metadata": {
    "ExecuteTime": {
     "end_time": "2016-04-15T16:32:54.479009",
     "start_time": "2016-04-15T16:32:54.469372"
    },
    "run_control": {
     "frozen": false,
     "read_only": false
    }
   },
   "source": [
    "Inicjalizujemy klasyfikator SVM  \n",
    "\n",
    "**SVM** - Support Vector Machine:\n",
    "- **SVC** - Support Vector Classification\n",
    "- **SVR** - Support Vector Regressor\n",
    "    \n",
    "[scikit-learn docs](http://scikit-learn.org/stable/modules/generated/sklearn.svm.SVC.html)"
   ]
  },
  {
   "cell_type": "code",
   "execution_count": 4,
   "metadata": {
    "ExecuteTime": {
     "end_time": "2017-01-07T19:41:43.647050",
     "start_time": "2017-01-07T19:41:43.644932"
    },
    "collapsed": true,
    "run_control": {
     "frozen": false,
     "read_only": false
    }
   },
   "outputs": [],
   "source": [
    "svc = svm.SVC()"
   ]
  },
  {
   "cell_type": "markdown",
   "metadata": {
    "run_control": {
     "frozen": false,
     "read_only": false
    }
   },
   "source": [
    "Słownik parametrów do przetestowania. Grid Search przyjmuję słownik lub listę słowników parametrów, które należy przekazać do konstruktora klasyfikatora. Z każdego słownika tworzy macierz kombinacji tych parametrów."
   ]
  },
  {
   "cell_type": "code",
   "execution_count": 5,
   "metadata": {
    "ExecuteTime": {
     "end_time": "2017-01-07T19:41:43.651007",
     "start_time": "2017-01-07T19:41:43.648169"
    },
    "collapsed": false,
    "run_control": {
     "frozen": false,
     "read_only": false
    }
   },
   "outputs": [],
   "source": [
    "parameters = [{'kernel':['rbf'], 'C':[1e-4, 1e-3, 1e-2, 1e0, 1e1, 1e2, 1e3]},\n",
    "              {'kernel':['poly'], 'C':[1e-4, 1e-3, 1e-2, 1e0, 1e1, 1e2, 1e3], 'degree':[2,3]},\n",
    "             {'kernel':['linear'], 'C':[1e-4, 1e-3, 1e-2, 1e0, 1e1, 1e2, 1e3]}]"
   ]
  },
  {
   "cell_type": "markdown",
   "metadata": {
    "run_control": {
     "frozen": false,
     "read_only": false
    }
   },
   "source": [
    "### Dataset Iris"
   ]
  },
  {
   "cell_type": "markdown",
   "metadata": {
    "ExecuteTime": {
     "end_time": "2016-04-15T16:36:23.468582",
     "start_time": "2016-04-15T16:36:23.460779"
    },
    "run_control": {
     "frozen": false,
     "read_only": false
    }
   },
   "source": [
    "Sprawdźmy, które parametry najlepiej się sprawdzają w połączeniu klasyfikatora SVM i zestawu Iris"
   ]
  },
  {
   "cell_type": "markdown",
   "metadata": {
    "run_control": {
     "frozen": false,
     "read_only": false
    }
   },
   "source": [
    "Po wywołaniu metody **fit(X,y)** na obiekcie **GridSearchCV**,  wykonywana jest kroswalidacja na instancjach klasyfikatora SVM z różnymi kombinacjami parametrów. Po otrzymaniu wyników z każdej kroswalidacji, wybierany jest najlepszy zestaw parametrów.\n",
    "\n",
    "Walidacja krzyżowa zwraca wyniki otrzymane z domyślnej metody **score(X,y)** zaimplementowanej w klasyfikatorze. Możemy przekazać inny *scorer*, na podstawie którego ma być robiona ocena  \n",
    "[Model evaluation - scikit-learn doc](http://scikit-learn.org/stable/modules/model_evaluation.html)   \n",
    "___"
   ]
  },
  {
   "cell_type": "code",
   "execution_count": 6,
   "metadata": {
    "ExecuteTime": {
     "end_time": "2017-01-07T19:41:43.926539",
     "start_time": "2017-01-07T19:41:43.652028"
    },
    "collapsed": false,
    "run_control": {
     "frozen": false,
     "read_only": false
    }
   },
   "outputs": [
    {
     "data": {
      "text/plain": [
       "GridSearchCV(cv=None, error_score='raise',\n",
       "       estimator=SVC(C=1.0, cache_size=200, class_weight=None, coef0=0.0,\n",
       "  decision_function_shape=None, degree=3, gamma='auto', kernel='rbf',\n",
       "  max_iter=-1, probability=False, random_state=None, shrinking=True,\n",
       "  tol=0.001, verbose=False),\n",
       "       fit_params={}, iid=True, n_jobs=4,\n",
       "       param_grid=[{'kernel': ['rbf'], 'C': [0.0001, 0.001, 0.01, 1.0, 10.0, 100.0, 1000.0]}, {'degree': [2, 3], 'kernel': ['poly'], 'C': [0.0001, 0.001, 0.01, 1.0, 10.0, 100.0, 1000.0]}, {'kernel': ['linear'], 'C': [0.0001, 0.001, 0.01, 1.0, 10.0, 100.0, 1000.0]}],\n",
       "       pre_dispatch='2*n_jobs', refit=True, scoring=None, verbose=0)"
      ]
     },
     "execution_count": 6,
     "metadata": {},
     "output_type": "execute_result"
    }
   ],
   "source": [
    "gs = grid_search.GridSearchCV(svc, parameters, n_jobs=4)\n",
    "gs.fit(iris_dataset['data'], iris_dataset['target'])"
   ]
  },
  {
   "cell_type": "markdown",
   "metadata": {
    "run_control": {
     "frozen": false,
     "read_only": false
    }
   },
   "source": [
    "Zestaw najlepszych parametrów"
   ]
  },
  {
   "cell_type": "code",
   "execution_count": 7,
   "metadata": {
    "ExecuteTime": {
     "end_time": "2017-01-07T19:41:43.930856",
     "start_time": "2017-01-07T19:41:43.928356"
    },
    "collapsed": false,
    "run_control": {
     "frozen": false,
     "read_only": false
    },
    "scrolled": true
   },
   "outputs": [
    {
     "data": {
      "text/plain": [
       "{'C': 10.0, 'kernel': 'rbf'}"
      ]
     },
     "execution_count": 7,
     "metadata": {},
     "output_type": "execute_result"
    }
   ],
   "source": [
    "gs.best_params_"
   ]
  },
  {
   "cell_type": "markdown",
   "metadata": {
    "run_control": {
     "frozen": false,
     "read_only": false
    }
   },
   "source": [
    "Wyniki dla wszystkich zestawów parametrów"
   ]
  },
  {
   "cell_type": "code",
   "execution_count": 8,
   "metadata": {
    "ExecuteTime": {
     "end_time": "2017-01-07T19:41:43.937374",
     "start_time": "2017-01-07T19:41:43.931926"
    },
    "collapsed": false,
    "run_control": {
     "frozen": false,
     "read_only": false
    }
   },
   "outputs": [
    {
     "data": {
      "text/plain": [
       "[mean: 0.93333, std: 0.03277, params: {'kernel': 'rbf', 'C': 0.0001},\n",
       " mean: 0.93333, std: 0.03277, params: {'kernel': 'rbf', 'C': 0.001},\n",
       " mean: 0.93333, std: 0.03277, params: {'kernel': 'rbf', 'C': 0.01},\n",
       " mean: 0.97333, std: 0.00897, params: {'kernel': 'rbf', 'C': 1.0},\n",
       " mean: 0.98000, std: 0.01601, params: {'kernel': 'rbf', 'C': 10.0},\n",
       " mean: 0.96000, std: 0.04217, params: {'kernel': 'rbf', 'C': 100.0},\n",
       " mean: 0.95333, std: 0.03669, params: {'kernel': 'rbf', 'C': 1000.0},\n",
       " mean: 0.86000, std: 0.00404, params: {'degree': 2, 'kernel': 'poly', 'C': 0.0001},\n",
       " mean: 0.87333, std: 0.00809, params: {'degree': 3, 'kernel': 'poly', 'C': 0.0001},\n",
       " mean: 0.88667, std: 0.02253, params: {'degree': 2, 'kernel': 'poly', 'C': 0.001},\n",
       " mean: 0.96667, std: 0.01820, params: {'degree': 3, 'kernel': 'poly', 'C': 0.001},\n",
       " mean: 0.95333, std: 0.02402, params: {'degree': 2, 'kernel': 'poly', 'C': 0.01},\n",
       " mean: 0.97333, std: 0.02446, params: {'degree': 3, 'kernel': 'poly', 'C': 0.01},\n",
       " mean: 0.96667, std: 0.04622, params: {'degree': 2, 'kernel': 'poly', 'C': 1.0},\n",
       " mean: 0.96667, std: 0.04622, params: {'degree': 3, 'kernel': 'poly', 'C': 1.0},\n",
       " mean: 0.96667, std: 0.04622, params: {'degree': 2, 'kernel': 'poly', 'C': 10.0},\n",
       " mean: 0.96667, std: 0.04622, params: {'degree': 3, 'kernel': 'poly', 'C': 10.0},\n",
       " mean: 0.96667, std: 0.04622, params: {'degree': 2, 'kernel': 'poly', 'C': 100.0},\n",
       " mean: 0.96000, std: 0.04236, params: {'degree': 3, 'kernel': 'poly', 'C': 100.0},\n",
       " mean: 0.96667, std: 0.04622, params: {'degree': 2, 'kernel': 'poly', 'C': 1000.0},\n",
       " mean: 0.96000, std: 0.04236, params: {'degree': 3, 'kernel': 'poly', 'C': 1000.0},\n",
       " mean: 0.91333, std: 0.01675, params: {'kernel': 'linear', 'C': 0.0001},\n",
       " mean: 0.91333, std: 0.01675, params: {'kernel': 'linear', 'C': 0.001},\n",
       " mean: 0.90667, std: 0.01745, params: {'kernel': 'linear', 'C': 0.01},\n",
       " mean: 0.98000, std: 0.01602, params: {'kernel': 'linear', 'C': 1.0},\n",
       " mean: 0.97333, std: 0.03697, params: {'kernel': 'linear', 'C': 10.0},\n",
       " mean: 0.96667, std: 0.03317, params: {'kernel': 'linear', 'C': 100.0},\n",
       " mean: 0.97333, std: 0.03697, params: {'kernel': 'linear', 'C': 1000.0}]"
      ]
     },
     "execution_count": 8,
     "metadata": {},
     "output_type": "execute_result"
    }
   ],
   "source": [
    "gs.grid_scores_"
   ]
  },
  {
   "cell_type": "markdown",
   "metadata": {
    "run_control": {
     "frozen": false,
     "read_only": false
    }
   },
   "source": [
    "#### Trochę czystsza prezentacja"
   ]
  },
  {
   "cell_type": "code",
   "execution_count": 9,
   "metadata": {
    "ExecuteTime": {
     "end_time": "2017-01-07T19:41:43.942383",
     "start_time": "2017-01-07T19:41:43.938276"
    },
    "collapsed": true,
    "run_control": {
     "frozen": false,
     "read_only": false
    }
   },
   "outputs": [],
   "source": [
    "# source: http://scikit-learn.org/stable/auto_examples/model_selection/randomized_search.html\n",
    "# Utility function to report best scores\n",
    "def report(grid_scores, n_top=3):\n",
    "    top_scores = sorted(grid_scores, key=itemgetter(1), reverse=True)[:n_top]\n",
    "    for i, score in enumerate(top_scores):\n",
    "        print(\"Model with rank: {0}\".format(i + 1))\n",
    "        print(\"Mean validation score: {0:.5f} (std: {1:.5f})\".format(\n",
    "              score.mean_validation_score,\n",
    "              np.std(score.cv_validation_scores)))\n",
    "        print(\"Parameters: {0}\".format(score.parameters))\n",
    "        print(\"\")"
   ]
  },
  {
   "cell_type": "code",
   "execution_count": 10,
   "metadata": {
    "ExecuteTime": {
     "end_time": "2017-01-07T19:41:43.948579",
     "start_time": "2017-01-07T19:41:43.943473"
    },
    "collapsed": false,
    "run_control": {
     "frozen": false,
     "read_only": false
    }
   },
   "outputs": [
    {
     "name": "stdout",
     "output_type": "stream",
     "text": [
      "Model with rank: 1\n",
      "Mean validation score: 0.98000 (std: 0.01601)\n",
      "Parameters: {'kernel': 'rbf', 'C': 10.0}\n",
      "\n",
      "Model with rank: 2\n",
      "Mean validation score: 0.98000 (std: 0.01602)\n",
      "Parameters: {'kernel': 'linear', 'C': 1.0}\n",
      "\n",
      "Model with rank: 3\n",
      "Mean validation score: 0.97333 (std: 0.00897)\n",
      "Parameters: {'kernel': 'rbf', 'C': 1.0}\n",
      "\n",
      "Model with rank: 4\n",
      "Mean validation score: 0.97333 (std: 0.02446)\n",
      "Parameters: {'degree': 3, 'kernel': 'poly', 'C': 0.01}\n",
      "\n",
      "Model with rank: 5\n",
      "Mean validation score: 0.97333 (std: 0.03697)\n",
      "Parameters: {'kernel': 'linear', 'C': 10.0}\n",
      "\n"
     ]
    }
   ],
   "source": [
    "report(gs.grid_scores_, 5)"
   ]
  },
  {
   "cell_type": "markdown",
   "metadata": {
    "run_control": {
     "frozen": false,
     "read_only": false
    }
   },
   "source": [
    "### Dataset Digits"
   ]
  },
  {
   "cell_type": "markdown",
   "metadata": {
    "ExecuteTime": {
     "end_time": "2016-04-15T16:45:08.243796",
     "start_time": "2016-04-15T16:45:08.238209"
    },
    "run_control": {
     "frozen": false,
     "read_only": false
    }
   },
   "source": [
    "Dokładnie to samo dla zestawu danych Digits"
   ]
  },
  {
   "cell_type": "code",
   "execution_count": 11,
   "metadata": {
    "ExecuteTime": {
     "end_time": "2017-01-07T19:41:46.665396",
     "start_time": "2017-01-07T19:41:43.949711"
    },
    "collapsed": false,
    "run_control": {
     "frozen": false,
     "read_only": false
    }
   },
   "outputs": [
    {
     "data": {
      "text/plain": [
       "GridSearchCV(cv=None, error_score='raise',\n",
       "       estimator=SVC(C=1.0, cache_size=200, class_weight=None, coef0=0.0,\n",
       "  decision_function_shape=None, degree=3, gamma='auto', kernel='rbf',\n",
       "  max_iter=-1, probability=False, random_state=None, shrinking=True,\n",
       "  tol=0.001, verbose=False),\n",
       "       fit_params={}, iid=True, n_jobs=4,\n",
       "       param_grid=[{'kernel': ['rbf'], 'C': [0.0001, 0.001, 0.01, 1.0, 10.0, 100.0, 1000.0]}, {'degree': [2, 3], 'kernel': ['poly'], 'C': [0.0001, 0.001, 0.01, 1.0, 10.0, 100.0, 1000.0]}, {'kernel': ['linear'], 'C': [0.0001, 0.001, 0.01, 1.0, 10.0, 100.0, 1000.0]}],\n",
       "       pre_dispatch='2*n_jobs', refit=True, scoring=None, verbose=0)"
      ]
     },
     "execution_count": 11,
     "metadata": {},
     "output_type": "execute_result"
    }
   ],
   "source": [
    "gs = grid_search.GridSearchCV(svc, parameters, n_jobs=4)\n",
    "gs.fit(digits_dataset['data'], digits_dataset['target'])"
   ]
  },
  {
   "cell_type": "code",
   "execution_count": 12,
   "metadata": {
    "ExecuteTime": {
     "end_time": "2017-01-07T19:41:46.668852",
     "start_time": "2017-01-07T19:41:46.666502"
    },
    "collapsed": false,
    "run_control": {
     "frozen": false,
     "read_only": false
    }
   },
   "outputs": [
    {
     "name": "stdout",
     "output_type": "stream",
     "text": [
      "Model with rank: 1\n",
      "Mean validation score: 0.96049 (std: 0.01269)\n",
      "Parameters: {'degree': 3, 'kernel': 'poly', 'C': 0.0001}\n",
      "\n",
      "Model with rank: 2\n",
      "Mean validation score: 0.96049 (std: 0.01269)\n",
      "Parameters: {'degree': 3, 'kernel': 'poly', 'C': 0.001}\n",
      "\n",
      "Model with rank: 3\n",
      "Mean validation score: 0.96049 (std: 0.01269)\n",
      "Parameters: {'degree': 3, 'kernel': 'poly', 'C': 0.01}\n",
      "\n",
      "Model with rank: 4\n",
      "Mean validation score: 0.96049 (std: 0.01269)\n",
      "Parameters: {'degree': 3, 'kernel': 'poly', 'C': 1.0}\n",
      "\n",
      "Model with rank: 5\n",
      "Mean validation score: 0.96049 (std: 0.01269)\n",
      "Parameters: {'degree': 3, 'kernel': 'poly', 'C': 10.0}\n",
      "\n"
     ]
    }
   ],
   "source": [
    "report(gs.grid_scores_, 5)"
   ]
  },
  {
   "cell_type": "markdown",
   "metadata": {
    "ExecuteTime": {
     "end_time": "2016-04-10T21:16:31.495158",
     "start_time": "2016-04-10T21:16:31.493586"
    },
    "run_control": {
     "frozen": false,
     "read_only": false
    }
   },
   "source": [
    "## Testowanie kilku klasyfikatorów"
   ]
  },
  {
   "cell_type": "markdown",
   "metadata": {
    "run_control": {
     "frozen": false,
     "read_only": false
    }
   },
   "source": [
    "Wcześniej przetestowaliśmy jeden klasyfikator z różnymi parametrami.  \n",
    "Dzięki temu dowiedzieliśmy się jaki najlepszy wynik można osiągnąć z danym klasyfikatorem. Sprawdzając w ten sposób kilka różnych klasyfikatorów, bardzo łatwo jest wybrać najlepszy z nich (przynajmniej pod względem danej metody oceniania - _scoring_)"
   ]
  },
  {
   "cell_type": "code",
   "execution_count": 13,
   "metadata": {
    "ExecuteTime": {
     "end_time": "2017-01-07T19:41:46.678760",
     "start_time": "2017-01-07T19:41:46.669718"
    },
    "collapsed": false,
    "run_control": {
     "frozen": false,
     "read_only": false
    }
   },
   "outputs": [],
   "source": [
    "def test_classifiers(classifiers_to_test, X, y):\n",
    "    \"\"\"\n",
    "    Zwróć listę przekazanych klasyfikatorów z najlepszymi wynikami osiągnietymi dla zestawu danych X,y\n",
    "    \n",
    "    Args:\n",
    "        classifiers_to_test: lista klasyfikatorów do sprawdzenia, \n",
    "                             składa się z słowników z wartościami: name, classifier, parameters\n",
    "        X: dane wejściowe do klasyfikacji\n",
    "        y: klasy odpowiadające danym wejściowym\n",
    "    \"\"\"\n",
    "    classifiers_results = []\n",
    "    for classifier in classifiers_to_test:  # iterujemy po każdym słowniku z informacjami o klasyfikatorze\n",
    "        start = datetime.now()\n",
    "        gs = grid_search.GridSearchCV(classifier['classifier'],  # inicjalizujemy GridSearchCV\n",
    "                                      classifier['parameters'], \n",
    "                                      n_jobs=4,  # GridSearchCV będzie działał na 4 wątkach\n",
    "                                      scoring='accuracy')  # ustawiamy wszystkim klasyfikatorom na sztywno rodzaj _scoringu_\n",
    "        gs.fit(X, y)\n",
    "        classifiers_results.append({'name': classifier['name'], \n",
    "                                         'best_score': gs.best_score_, \n",
    "                                         'grid_search': gs})  # zapisujemy wyniki\n",
    "\n",
    "        # na bierząco wyświetlamy wyniki\n",
    "        print(\"{0}\\nscore: {1}\\ntime: {2}\\n*=======================*\".\n",
    "              format(classifier['name'], \n",
    "                     gs.best_score_, \n",
    "                     (datetime.now() - start))) \n",
    "        \n",
    "    return classifiers_results"
   ]
  },
  {
   "cell_type": "markdown",
   "metadata": {
    "run_control": {
     "frozen": false,
     "read_only": false
    }
   },
   "source": [
    "Tworzymy listę klasyfikatorów z odpowiednimi zestawami parametrów. W celu czytelniejszej prezentacji przekazujemy też nazwę klasyfikatora."
   ]
  },
  {
   "cell_type": "code",
   "execution_count": 14,
   "metadata": {
    "ExecuteTime": {
     "end_time": "2017-01-07T19:41:46.698156",
     "start_time": "2017-01-07T19:41:46.680252"
    },
    "collapsed": false,
    "run_control": {
     "frozen": false,
     "read_only": false
    }
   },
   "outputs": [],
   "source": [
    "classifiers_to_test = [\n",
    "    {\n",
    "        'name': 'SVC',\n",
    "        'classifier': svm.SVC(),\n",
    "        'parameters': [{'kernel':['rbf'], 'C':[1e-4, 1e-3, 1e-2, 1e0, 1e1, 1e2, 1e3]},\n",
    "                       {'kernel':['linear'], 'C':[1e-4, 1e-3, 1e-2, 1e0, 1e1, 1e2, 1e3]}]\n",
    "    },\n",
    "    {\n",
    "        'name': 'LinearSVC',\n",
    "        'classifier': svm.LinearSVC(),\n",
    "        'parameters': [{'max_iter':[1e3, 1e4, 1e5], 'C':[1e-4, 1e-3, 1e-2, 1e0, 1e1, 1e2, 1e3]}]\n",
    "    },\n",
    "    {\n",
    "        'name': 'ExtraTreesClassifier',\n",
    "        'classifier': ensemble.ExtraTreesClassifier(),\n",
    "        'parameters': [{'n_estimators':[5,10,20,50], 'min_samples_leaf':[1,2,4,8]}]\n",
    "    },\n",
    "    {\n",
    "        'name': 'RandomForestClassifier',\n",
    "        'classifier': ensemble.RandomForestClassifier(),\n",
    "        'parameters': [{'n_estimators':[5,10,20,50], 'min_samples_leaf':[1,2,4,8]}]\n",
    "    },\n",
    "    {\n",
    "        'name': 'KNeighborsClassifier',\n",
    "        'classifier': neighbors.KNeighborsClassifier(),\n",
    "        'parameters': [{'n_neighbors':[5,10,20], 'p':[1,2]}]\n",
    "    },\n",
    "    {\n",
    "        'name': 'LogisticRegression',\n",
    "        'classifier': linear_model.LogisticRegression(),\n",
    "        'parameters': [{'max_iter':[1e3, 1e4, 1e5], 'C':[1e-4, 1e-3, 1e-2, 1e0, 1e1, 1e2, 1e3]}]\n",
    "    }\n",
    "]"
   ]
  },
  {
   "cell_type": "markdown",
   "metadata": {
    "run_control": {
     "frozen": false,
     "read_only": false
    }
   },
   "source": [
    "### Dataset Iris"
   ]
  },
  {
   "cell_type": "code",
   "execution_count": 15,
   "metadata": {
    "ExecuteTime": {
     "end_time": "2017-01-07T19:41:50.983729",
     "start_time": "2017-01-07T19:41:46.699230"
    },
    "collapsed": false,
    "run_control": {
     "frozen": false,
     "read_only": false
    }
   },
   "outputs": [
    {
     "name": "stdout",
     "output_type": "stream",
     "text": [
      "SVC\n",
      "score: 0.98\n",
      "time: 0:00:00.172051\n",
      "*=======================*\n",
      "LinearSVC\n",
      "score: 0.9733333333333334\n",
      "time: 0:00:02.309578\n",
      "*=======================*\n",
      "ExtraTreesClassifier\n",
      "score: 0.9666666666666667\n",
      "time: 0:00:00.768941\n",
      "*=======================*\n",
      "RandomForestClassifier\n",
      "score: 0.9733333333333334\n",
      "time: 0:00:00.704267\n",
      "*=======================*\n",
      "KNeighborsClassifier\n",
      "score: 0.9866666666666667\n",
      "time: 0:00:00.162659\n",
      "*=======================*\n",
      "LogisticRegression\n",
      "score: 0.9733333333333334\n",
      "time: 0:00:00.162601\n",
      "*=======================*\n"
     ]
    }
   ],
   "source": [
    "X, y = iris_dataset['data'], iris_dataset['target']\n",
    "classifiers_results_iris = test_classifiers(classifiers_to_test, X , y)"
   ]
  },
  {
   "cell_type": "markdown",
   "metadata": {
    "run_control": {
     "frozen": false,
     "read_only": false
    }
   },
   "source": [
    "#### Parametery najlepszego klasyfikatora"
   ]
  },
  {
   "cell_type": "markdown",
   "metadata": {
    "ExecuteTime": {
     "end_time": "2016-04-15T17:02:42.717270",
     "start_time": "2016-04-15T17:02:42.707927"
    },
    "run_control": {
     "frozen": false,
     "read_only": false
    }
   },
   "source": [
    "Sprawdzamy, który klasyfikator najlepiej wypadł i jakie miał parametry"
   ]
  },
  {
   "cell_type": "code",
   "execution_count": 16,
   "metadata": {
    "ExecuteTime": {
     "end_time": "2017-01-07T19:41:50.988323",
     "start_time": "2017-01-07T19:41:50.985065"
    },
    "collapsed": false,
    "run_control": {
     "frozen": false,
     "read_only": false
    }
   },
   "outputs": [
    {
     "name": "stdout",
     "output_type": "stream",
     "text": [
      "KNeighborsClassifier\n",
      "{'p': 2, 'n_neighbors': 5}\n"
     ]
    }
   ],
   "source": [
    "classifiers_results_iris.sort(key=itemgetter('best_score'), reverse=True)  # sortujemy po najlepszym wyniku\n",
    "print(classifiers_results_iris[0]['name'])\n",
    "print(classifiers_results_iris[0]['grid_search'].best_params_)"
   ]
  },
  {
   "cell_type": "markdown",
   "metadata": {
    "run_control": {
     "frozen": false,
     "read_only": false
    }
   },
   "source": [
    "Ranking parametrów najlepszego klasyfikatora"
   ]
  },
  {
   "cell_type": "code",
   "execution_count": 17,
   "metadata": {
    "ExecuteTime": {
     "end_time": "2017-01-07T19:41:50.998566",
     "start_time": "2017-01-07T19:41:50.989253"
    },
    "collapsed": false,
    "run_control": {
     "frozen": false,
     "read_only": false
    }
   },
   "outputs": [
    {
     "name": "stdout",
     "output_type": "stream",
     "text": [
      "Model with rank: 1\n",
      "Mean validation score: 0.98667 (std: 0.00924)\n",
      "Parameters: {'p': 2, 'n_neighbors': 5}\n",
      "\n",
      "Model with rank: 2\n",
      "Mean validation score: 0.97333 (std: 0.00897)\n",
      "Parameters: {'p': 1, 'n_neighbors': 5}\n",
      "\n",
      "Model with rank: 3\n",
      "Mean validation score: 0.97333 (std: 0.00897)\n",
      "Parameters: {'p': 1, 'n_neighbors': 10}\n",
      "\n"
     ]
    }
   ],
   "source": [
    "report(classifiers_results_iris[0]['grid_search'].grid_scores_)"
   ]
  },
  {
   "cell_type": "markdown",
   "metadata": {
    "ExecuteTime": {
     "end_time": "2016-04-10T22:48:04.389471",
     "start_time": "2016-04-10T22:48:04.386700"
    },
    "run_control": {
     "frozen": false,
     "read_only": false
    }
   },
   "source": [
    "### Dataset Digits"
   ]
  },
  {
   "cell_type": "code",
   "execution_count": 18,
   "metadata": {
    "ExecuteTime": {
     "end_time": "2017-01-07T19:42:11.104093",
     "start_time": "2017-01-07T19:41:50.999882"
    },
    "collapsed": false,
    "run_control": {
     "frozen": false,
     "read_only": false
    }
   },
   "outputs": [
    {
     "name": "stdout",
     "output_type": "stream",
     "text": [
      "SVC\n",
      "score: 0.9515859766277128\n",
      "time: 0:00:02.220477\n",
      "*=======================*\n",
      "LinearSVC\n",
      "score: 0.9298831385642737\n",
      "time: 0:00:10.328087\n",
      "*=======================*\n",
      "ExtraTreesClassifier\n",
      "score: 0.9482470784641068\n",
      "time: 0:00:00.833098\n",
      "*=======================*\n",
      "RandomForestClassifier\n",
      "score: 0.9332220367278798\n",
      "time: 0:00:01.177249\n",
      "*=======================*\n",
      "KNeighborsClassifier\n",
      "score: 0.9627156371730662\n",
      "time: 0:00:00.557140\n",
      "*=======================*\n",
      "LogisticRegression\n",
      "score: 0.9298831385642737\n",
      "time: 0:00:04.984364\n",
      "*=======================*\n"
     ]
    }
   ],
   "source": [
    "X, y = digits_dataset['data'], digits_dataset['target']\n",
    "classifiers_results_digits = test_classifiers(classifiers_to_test, X , y)"
   ]
  },
  {
   "cell_type": "markdown",
   "metadata": {
    "run_control": {
     "frozen": false,
     "read_only": false
    }
   },
   "source": [
    "#### Parametry najlepszego klasyfikatora"
   ]
  },
  {
   "cell_type": "code",
   "execution_count": 19,
   "metadata": {
    "ExecuteTime": {
     "end_time": "2017-01-07T19:42:11.108293",
     "start_time": "2017-01-07T19:42:11.105596"
    },
    "collapsed": false,
    "run_control": {
     "frozen": false,
     "read_only": false
    }
   },
   "outputs": [
    {
     "name": "stdout",
     "output_type": "stream",
     "text": [
      "KNeighborsClassifier\n",
      "{'p': 2, 'n_neighbors': 5}\n"
     ]
    }
   ],
   "source": [
    "classifiers_results_digits.sort(key=itemgetter('best_score'), reverse=True)\n",
    "print(classifiers_results_digits[0]['name'])\n",
    "print(classifiers_results_digits[0]['grid_search'].best_params_)"
   ]
  },
  {
   "cell_type": "markdown",
   "metadata": {
    "ExecuteTime": {
     "end_time": "2016-04-10T23:16:14.238987",
     "start_time": "2016-04-10T23:16:14.235254"
    },
    "run_control": {
     "frozen": false,
     "read_only": false
    }
   },
   "source": [
    "### Porównanie parametrów klasyfikatorów dla obu zestawów danych"
   ]
  },
  {
   "cell_type": "markdown",
   "metadata": {
    "run_control": {
     "frozen": false,
     "read_only": false
    }
   },
   "source": [
    "Tworzymy **pandas.DataFrame** z wyników obu testów. Następnie łączymy je poziomo, dzięki czemu mamy dobre porównanie klasyfikatorów"
   ]
  },
  {
   "cell_type": "code",
   "execution_count": 20,
   "metadata": {
    "ExecuteTime": {
     "end_time": "2017-01-07T19:42:11.120269",
     "start_time": "2017-01-07T19:42:11.109163"
    },
    "collapsed": false,
    "run_control": {
     "frozen": false,
     "read_only": false
    }
   },
   "outputs": [
    {
     "data": {
      "text/html": [
       "<div>\n",
       "<table border=\"1\" class=\"dataframe\">\n",
       "  <thead>\n",
       "    <tr style=\"text-align: right;\">\n",
       "      <th></th>\n",
       "      <th>Iris</th>\n",
       "      <th>best_score</th>\n",
       "      <th>Digits</th>\n",
       "      <th>best_score</th>\n",
       "    </tr>\n",
       "  </thead>\n",
       "  <tbody>\n",
       "    <tr>\n",
       "      <th>0</th>\n",
       "      <td>KNeighborsClassifier</td>\n",
       "      <td>0.986667</td>\n",
       "      <td>KNeighborsClassifier</td>\n",
       "      <td>0.962716</td>\n",
       "    </tr>\n",
       "    <tr>\n",
       "      <th>1</th>\n",
       "      <td>SVC</td>\n",
       "      <td>0.980000</td>\n",
       "      <td>SVC</td>\n",
       "      <td>0.951586</td>\n",
       "    </tr>\n",
       "    <tr>\n",
       "      <th>2</th>\n",
       "      <td>LinearSVC</td>\n",
       "      <td>0.973333</td>\n",
       "      <td>ExtraTreesClassifier</td>\n",
       "      <td>0.948247</td>\n",
       "    </tr>\n",
       "    <tr>\n",
       "      <th>3</th>\n",
       "      <td>RandomForestClassifier</td>\n",
       "      <td>0.973333</td>\n",
       "      <td>RandomForestClassifier</td>\n",
       "      <td>0.933222</td>\n",
       "    </tr>\n",
       "    <tr>\n",
       "      <th>4</th>\n",
       "      <td>LogisticRegression</td>\n",
       "      <td>0.973333</td>\n",
       "      <td>LinearSVC</td>\n",
       "      <td>0.929883</td>\n",
       "    </tr>\n",
       "    <tr>\n",
       "      <th>5</th>\n",
       "      <td>ExtraTreesClassifier</td>\n",
       "      <td>0.966667</td>\n",
       "      <td>LogisticRegression</td>\n",
       "      <td>0.929883</td>\n",
       "    </tr>\n",
       "  </tbody>\n",
       "</table>\n",
       "</div>"
      ],
      "text/plain": [
       "                     Iris  best_score                  Digits  best_score\n",
       "0    KNeighborsClassifier    0.986667    KNeighborsClassifier    0.962716\n",
       "1                     SVC    0.980000                     SVC    0.951586\n",
       "2               LinearSVC    0.973333    ExtraTreesClassifier    0.948247\n",
       "3  RandomForestClassifier    0.973333  RandomForestClassifier    0.933222\n",
       "4      LogisticRegression    0.973333               LinearSVC    0.929883\n",
       "5    ExtraTreesClassifier    0.966667      LogisticRegression    0.929883"
      ]
     },
     "execution_count": 20,
     "metadata": {},
     "output_type": "execute_result"
    }
   ],
   "source": [
    "iris_results_df = pd.DataFrame([[result['name'], result['best_score']] \n",
    "                                for result in classifiers_results_iris],\n",
    "                               columns=['Iris', 'best_score'])\n",
    "digits_results_df = pd.DataFrame([[result['name'], result['best_score']] \n",
    "                                  for result in classifiers_results_digits],\n",
    "                                 columns=['Digits', 'best_score'])\n",
    "pd.concat([iris_results_df, digits_results_df], axis=1)"
   ]
  },
  {
   "cell_type": "markdown",
   "metadata": {
    "run_control": {
     "frozen": false,
     "read_only": false
    }
   },
   "source": [
    "### Classification report"
   ]
  },
  {
   "cell_type": "markdown",
   "metadata": {
    "run_control": {
     "frozen": false,
     "read_only": false
    }
   },
   "source": [
    "W przypadku klasyfikacji wielu kategorii warto sprawdzić, jaki jest wynik klasyfikacji każdej kategorii. W tym celu możemy skorzystać z gotowej metody **sklearn.metrics.classification_report(y_true, y_pred)**"
   ]
  },
  {
   "cell_type": "code",
   "execution_count": 21,
   "metadata": {
    "ExecuteTime": {
     "end_time": "2017-01-07T19:42:11.124375",
     "start_time": "2017-01-07T19:42:11.121362"
    },
    "collapsed": false,
    "run_control": {
     "frozen": false,
     "read_only": false
    }
   },
   "outputs": [],
   "source": [
    "X, y = digits_dataset['data'], digits_dataset['target']"
   ]
  },
  {
   "cell_type": "markdown",
   "metadata": {
    "run_control": {
     "frozen": false,
     "read_only": false
    }
   },
   "source": [
    "**GridSearchCV** po wybraniu najlepszych parametrów klasyfikatora, przeucza go na całym zestawie danych i sam zaczyna działać jak klasyfikator.  \n",
    "Tzn. Wywołanie metory **predict(X)** na obiekcie **GridSearchCV**, zwraca wynik metody **predict(X)** na wybranym (najlepszym) klasyfikatorze (GridSearchCV.best_estimator)"
   ]
  },
  {
   "cell_type": "code",
   "execution_count": 22,
   "metadata": {
    "ExecuteTime": {
     "end_time": "2017-01-07T19:42:11.366694",
     "start_time": "2017-01-07T19:42:11.125283"
    },
    "collapsed": false,
    "run_control": {
     "frozen": false,
     "read_only": false
    }
   },
   "outputs": [],
   "source": [
    "y_pred = classifiers_results_digits[0]['grid_search'].predict(X) # Robimy predykcje na najlepszym klasyfikatorze dla zestawu digits"
   ]
  },
  {
   "cell_type": "markdown",
   "metadata": {
    "run_control": {
     "frozen": false,
     "read_only": false
    }
   },
   "source": [
    "W pierwszej kolumnie są klasy (możemy przekazać nazwy klas do fukcji **classification_report**).  \n",
    "Kolumny **precision**, **recall**, **f1-score** zawierają wyniki dla każdej klasy.  \n",
    "Kolumna **support** to liczność danej klasy"
   ]
  },
  {
   "cell_type": "code",
   "execution_count": 23,
   "metadata": {
    "ExecuteTime": {
     "end_time": "2017-01-07T19:42:11.372114",
     "start_time": "2017-01-07T19:42:11.367752"
    },
    "collapsed": false,
    "run_control": {
     "frozen": false,
     "read_only": false
    }
   },
   "outputs": [
    {
     "name": "stdout",
     "output_type": "stream",
     "text": [
      "             precision    recall  f1-score   support\n",
      "\n",
      "          0       1.00      1.00      1.00       178\n",
      "          1       0.98      1.00      0.99       182\n",
      "          2       1.00      1.00      1.00       177\n",
      "          3       0.98      0.99      0.99       183\n",
      "          4       0.99      1.00      1.00       181\n",
      "          5       0.99      0.99      0.99       182\n",
      "          6       0.99      1.00      0.99       181\n",
      "          7       0.99      0.99      0.99       179\n",
      "          8       0.99      0.98      0.98       174\n",
      "          9       0.99      0.96      0.97       180\n",
      "\n",
      "avg / total       0.99      0.99      0.99      1797\n",
      "\n"
     ]
    }
   ],
   "source": [
    "print(metrics.classification_report(y, y_pred))"
   ]
  },
  {
   "cell_type": "markdown",
   "metadata": {
    "run_control": {
     "frozen": false,
     "read_only": false
    }
   },
   "source": [
    "## Przykładowe wykorzystanie wyuczonego klasyfikatora"
   ]
  },
  {
   "cell_type": "code",
   "execution_count": 24,
   "metadata": {
    "ExecuteTime": {
     "end_time": "2017-01-07T19:42:11.376066",
     "start_time": "2017-01-07T19:42:11.373398"
    },
    "collapsed": true,
    "run_control": {
     "frozen": false,
     "read_only": false
    }
   },
   "outputs": [],
   "source": [
    "classifier = classifiers_results_iris[0]['grid_search']  # Klasyfikator dla zestawu iris"
   ]
  },
  {
   "cell_type": "code",
   "execution_count": 25,
   "metadata": {
    "ExecuteTime": {
     "end_time": "2017-01-07T19:42:11.381539",
     "start_time": "2017-01-07T19:42:11.377654"
    },
    "collapsed": false,
    "run_control": {
     "frozen": false,
     "read_only": false
    }
   },
   "outputs": [
    {
     "data": {
      "text/plain": [
       "array([ 5.1,  3.5,  1.4,  0.2])"
      ]
     },
     "execution_count": 25,
     "metadata": {},
     "output_type": "execute_result"
    }
   ],
   "source": [
    "iris_dataset['data'][0]"
   ]
  },
  {
   "cell_type": "code",
   "execution_count": 26,
   "metadata": {
    "ExecuteTime": {
     "end_time": "2017-01-07T19:42:11.386546",
     "start_time": "2017-01-07T19:42:11.382979"
    },
    "collapsed": false,
    "run_control": {
     "frozen": false,
     "read_only": false
    }
   },
   "outputs": [
    {
     "data": {
      "text/plain": [
       "0"
      ]
     },
     "execution_count": 26,
     "metadata": {},
     "output_type": "execute_result"
    }
   ],
   "source": [
    "iris_dataset['target'][0]"
   ]
  },
  {
   "cell_type": "code",
   "execution_count": 27,
   "metadata": {
    "ExecuteTime": {
     "end_time": "2017-01-07T19:42:11.391077",
     "start_time": "2017-01-07T19:42:11.387625"
    },
    "collapsed": false,
    "run_control": {
     "frozen": false,
     "read_only": false
    }
   },
   "outputs": [
    {
     "data": {
      "text/plain": [
       "array([0])"
      ]
     },
     "execution_count": 27,
     "metadata": {},
     "output_type": "execute_result"
    }
   ],
   "source": [
    "classifier.predict([iris_dataset['data'][0]])"
   ]
  }
 ],
 "metadata": {
  "anaconda-cloud": {},
  "hide_input": false,
  "kernelspec": {
   "display_name": "Python [default]",
   "language": "python",
   "name": "python3"
  },
  "language_info": {
   "codemirror_mode": {
    "name": "ipython",
    "version": 3
   },
   "file_extension": ".py",
   "mimetype": "text/x-python",
   "name": "python",
   "nbconvert_exporter": "python",
   "pygments_lexer": "ipython3",
   "version": "3.5.2"
  },
  "notify_time": "30",
  "toc": {
   "colors": {
    "hover_highlight": "#DAA520",
    "running_highlight": "#FF0000",
    "selected_highlight": "#FFD700"
   },
   "moveMenuLeft": true,
   "nav_menu": {
    "height": "279px",
    "width": "252px"
   },
   "navigate_menu": true,
   "number_sections": true,
   "sideBar": true,
   "threshold": 4,
   "toc_cell": true,
   "toc_number_sections": true,
   "toc_section_display": "none",
   "toc_threshold": 6,
   "toc_window_display": false
  },
  "toc_position": {
   "height": "631px",
   "left": "1578px",
   "right": "49px",
   "top": "144px",
   "width": "228px"
  }
 },
 "nbformat": 4,
 "nbformat_minor": 0
}
